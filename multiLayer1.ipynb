{
 "cells": [
  {
   "cell_type": "code",
   "execution_count": 25,
   "metadata": {},
   "outputs": [
    {
     "name": "stdout",
     "output_type": "stream",
     "text": [
      "       fire  year  temp  humidity  rainfall  drought_code  buildup_index  day  \\\n",
      "0     no     2015    28        59       0.0          8.06           3.47    1   \n",
      "1     no     2010    30        61       1.3          8.17           4.03    2   \n",
      "2     no     2009    26        83      13.1          8.08           3.59    3   \n",
      "3     no     2017    25        87       2.5          7.18           2.42    4   \n",
      "4     no     2014    28        77       0.0         14.98           4.63    5   \n",
      "..      ...   ...   ...       ...       ...           ...            ...  ...   \n",
      "199  yes     2017    31        67       0.0         45.15          17.89   26   \n",
      "200   no     2017    29        89       4.4          8.74           6.52   27   \n",
      "201   no     2009    27        88       0.5          8.87           3.71   28   \n",
      "202   no     2016    25        56       0.1         15.54           6.10   29   \n",
      "203  no      2012    24        62       0.2         16.72           5.75   30   \n",
      "\n",
      "     month  wind_speed  \n",
      "0        6          19  \n",
      "1        6          13  \n",
      "2        6          22  \n",
      "3        6          15  \n",
      "4        6          18  \n",
      "..     ...         ...  \n",
      "199      9          15  \n",
      "200      9          15  \n",
      "201      9          30  \n",
      "202      9          20  \n",
      "203      9          17  \n",
      "\n",
      "[204 rows x 10 columns]\n"
     ]
    }
   ],
   "source": [
    "import pandas as pd\n",
    "data = pd.read_csv(\"wildfires.txt\", sep=\"\\t\")\n",
    "print(data)"
   ]
  },
  {
   "cell_type": "code",
   "execution_count": 26,
   "metadata": {},
   "outputs": [],
   "source": [
    "del data[\"year\"]\n",
    "del data[\"day\"]\n",
    "del data[\"month\"]"
   ]
  },
  {
   "cell_type": "code",
   "execution_count": 27,
   "metadata": {},
   "outputs": [],
   "source": [
    "dependent = data.values[:,0]\n",
    "independent = data.values[:,1:9]"
   ]
  },
  {
   "cell_type": "code",
   "execution_count": 28,
   "metadata": {},
   "outputs": [
    {
     "name": "stdout",
     "output_type": "stream",
     "text": [
      "['no' 'no' 'no' 'no' 'no' 'yes' 'yes' 'yes' 'no' 'no' 'yes' 'yes' 'no'\n",
      " 'no' 'no' 'no' 'no' 'no' 'no' 'no' 'yes' 'no' 'yes' 'yes' 'yes' 'yes'\n",
      " 'yes' 'yes' 'no' 'yes' 'no' 'no' 'no' 'no' 'yes' 'yes' 'no' 'yes' 'no'\n",
      " 'no' 'no' 'no' 'no' 'no' 'no' 'no' 'yes' 'yes' 'yes' 'no' 'yes' 'yes'\n",
      " 'yes' 'yes' 'yes' 'yes' 'yes' 'yes' 'yes' 'yes' 'yes' 'yes' 'yes' 'yes'\n",
      " 'yes' 'yes' 'yes' 'no' 'no' 'no' 'no' 'no' 'no' 'yes' 'no' 'no' 'no' 'no'\n",
      " 'no' 'no' 'no' 'no' 'no' 'no' 'no' 'yes' 'yes' 'yes' 'yes' 'yes' 'no'\n",
      " 'no' 'no' 'no' 'no' 'yes' 'no' 'no' 'no' 'no' 'no' 'no' 'no' 'no' 'yes'\n",
      " 'yes' 'no' 'no' 'yes' 'yes' 'yes' 'no' 'no' 'no' 'no' 'no' 'no' 'no' 'no'\n",
      " 'yes' 'no' 'no' 'yes' 'yes' 'yes' 'yes' 'yes' 'yes' 'no' 'no' 'yes' 'yes'\n",
      " 'yes' 'yes' 'yes' 'no' 'no' 'no' 'no' 'yes' 'yes' 'yes' 'yes' 'no' 'yes'\n",
      " 'yes' 'yes' 'yes' 'no' 'no' 'yes' 'yes' 'yes' 'yes' 'yes' 'yes' 'yes'\n",
      " 'yes' 'yes' 'yes' 'yes' 'yes' 'yes' 'yes' 'yes' 'yes' 'yes' 'yes' 'yes'\n",
      " 'yes' 'no' 'yes' 'yes' 'yes' 'no' 'no' 'yes' 'no' 'no' 'no' 'yes' 'yes'\n",
      " 'yes' 'no' 'no' 'yes' 'yes' 'yes' 'yes' 'yes' 'yes' 'yes' 'yes' 'no'\n",
      " 'yes' 'yes' 'yes' 'no' 'no' 'yes' 'no' 'no' 'no' 'no']\n"
     ]
    }
   ],
   "source": [
    "for var in range(len(dependent)):\n",
    "    dependent[var] = dependent[var].replace(\" \", \"\")\n",
    "print(dependent)"
   ]
  },
  {
   "cell_type": "code",
   "execution_count": 29,
   "metadata": {},
   "outputs": [
    {
     "data": {
      "text/plain": [
       "array([0, 0, 0, 0, 0, 1, 1, 1, 0, 0, 1, 1, 0, 0, 0, 0, 0, 0, 0, 0, 1, 0,\n",
       "       1, 1, 1, 1, 1, 1, 0, 1, 0, 0, 0, 0, 1, 1, 0, 1, 0, 0, 0, 0, 0, 0,\n",
       "       0, 0, 1, 1, 1, 0, 1, 1, 1, 1, 1, 1, 1, 1, 1, 1, 1, 1, 1, 1, 1, 1,\n",
       "       1, 0, 0, 0, 0, 0, 0, 1, 0, 0, 0, 0, 0, 0, 0, 0, 0, 0, 0, 1, 1, 1,\n",
       "       1, 1, 0, 0, 0, 0, 0, 1, 0, 0, 0, 0, 0, 0, 0, 0, 1, 1, 0, 0, 1, 1,\n",
       "       1, 0, 0, 0, 0, 0, 0, 0, 0, 1, 0, 0, 1, 1, 1, 1, 1, 1, 0, 0, 1, 1,\n",
       "       1, 1, 1, 0, 0, 0, 0, 1, 1, 1, 1, 0, 1, 1, 1, 1, 0, 0, 1, 1, 1, 1,\n",
       "       1, 1, 1, 1, 1, 1, 1, 1, 1, 1, 1, 1, 1, 1, 1, 1, 0, 1, 1, 1, 0, 0,\n",
       "       1, 0, 0, 0, 1, 1, 1, 0, 0, 1, 1, 1, 1, 1, 1, 1, 1, 0, 1, 1, 1, 0,\n",
       "       0, 1, 0, 0, 0, 0])"
      ]
     },
     "execution_count": 29,
     "metadata": {},
     "output_type": "execute_result"
    }
   ],
   "source": [
    "from sklearn import preprocessing\n",
    "le = preprocessing.LabelEncoder()\n",
    "dependent = le.fit_transform(dependent)\n",
    "dependent"
   ]
  },
  {
   "cell_type": "code",
   "execution_count": 30,
   "metadata": {},
   "outputs": [],
   "source": [
    "from sklearn.model_selection import train_test_split\n",
    "X_train, X_test, y_train, y_test = train_test_split(\n",
    "    independent, dependent, test_size=0.3, random_state=0)"
   ]
  },
  {
   "cell_type": "code",
   "execution_count": 31,
   "metadata": {},
   "outputs": [],
   "source": [
    "from sklearn.metrics import accuracy_score\n",
    "from sklearn import metrics\n",
    "import numpy as np"
   ]
  },
  {
   "cell_type": "code",
   "execution_count": 32,
   "metadata": {},
   "outputs": [],
   "source": [
    "### Defining Multi-Layer Percepptron\n",
    "## 1-Hidden-Layer Perceptron"
   ]
  },
  {
   "cell_type": "code",
   "execution_count": 33,
   "metadata": {},
   "outputs": [],
   "source": [
    "learningRate = 0.0001\n",
    "bias = 1\n",
    "feature_length = len(independent[0])"
   ]
  },
  {
   "cell_type": "code",
   "execution_count": 34,
   "metadata": {},
   "outputs": [],
   "source": [
    "import random\n",
    "\n",
    "# Inital Weights\n",
    "weight_layer = [[random.random() for i in range (feature_length + 1)] for j in range (round(feature_length/2))]\n",
    "weight_final = [random.random() for i in range (round(feature_length/2))]"
   ]
  },
  {
   "cell_type": "code",
   "execution_count": 35,
   "metadata": {},
   "outputs": [],
   "source": [
    "hx1 = []"
   ]
  },
  {
   "cell_type": "code",
   "execution_count": 36,
   "metadata": {},
   "outputs": [],
   "source": [
    "def hidden_Calculation1(input):\n",
    "    for i in range(len(weight_layer)):\n",
    "        xi = 0\n",
    "        for j in range(len(input)):\n",
    "            xi += input[j] * weight_layer[i][j]\n",
    "        if (len(hx1) < len(weight_layer)):\n",
    "            hx1.append(xi)\n",
    "        else:\n",
    "            hx1[i] = xi"
   ]
  },
  {
   "cell_type": "code",
   "execution_count": 37,
   "metadata": {},
   "outputs": [],
   "source": [
    "def y_Calculation():\n",
    "    xi = 0\n",
    "    for i in range(len(weight_final)):\n",
    "        xi += hx1[i] * weight_final[i]\n",
    "    return xi"
   ]
  },
  {
   "cell_type": "code",
   "execution_count": 38,
   "metadata": {},
   "outputs": [],
   "source": [
    "def guess_value(y_val):\n",
    "    if y_val > 0:\n",
    "        return 1\n",
    "    else:\n",
    "        return 0"
   ]
  },
  {
   "cell_type": "code",
   "execution_count": 39,
   "metadata": {},
   "outputs": [],
   "source": [
    "def backpropagation(error, inputs):\n",
    "    for i in range(len(weight_layer)):\n",
    "        for j in range(feature_length):\n",
    "            weight_layer[i][j] += learningRate * error * inputs[j]\n",
    "    for i in range(len(weight_final)):\n",
    "        weight_final[i] += learningRate * error * hx1[i]"
   ]
  },
  {
   "cell_type": "code",
   "execution_count": 40,
   "metadata": {},
   "outputs": [],
   "source": [
    "def train(train_inputs, desired):\n",
    "    train_inputs = np.array(train_inputs)\n",
    "    train_inputs = np.append(train_inputs,bias)\n",
    "    hidden_Calculation1(train_inputs)\n",
    "    y = y_Calculation()\n",
    "    guess = guess_value(y)\n",
    "    error = desired - guess\n",
    "    if error != 0:\n",
    "        backpropagation(error, train_inputs)"
   ]
  },
  {
   "cell_type": "code",
   "execution_count": 41,
   "metadata": {},
   "outputs": [],
   "source": [
    "def test(test_inputs):\n",
    "    test_inputs = np.array(test_inputs)\n",
    "    test_inputs = np.append(test_inputs,bias)\n",
    "    hidden_Calculation1(test_inputs)\n",
    "    y = y_Calculation()\n",
    "    guess = guess_value(y)\n",
    "    return guess"
   ]
  },
  {
   "cell_type": "code",
   "execution_count": 42,
   "metadata": {},
   "outputs": [
    {
     "name": "stdout",
     "output_type": "stream",
     "text": [
      "1\n",
      "i*round(test_len/5) 0 (i*round(test_len/5))+ round(test_len/5) 12\n",
      "X_train_stack 130\n",
      "[1, 1, 1, 1, 1, 1, 1, 1, 1, 1, 1, 1]\n",
      "Accuracy:  0.5833333333333334\n",
      "Classification Report: \n",
      "              precision    recall  f1-score   support\n",
      "\n",
      "          no       0.00      0.00      0.00         5\n",
      "         yes       0.58      1.00      0.74         7\n",
      "\n",
      "    accuracy                           0.58        12\n",
      "   macro avg       0.29      0.50      0.37        12\n",
      "weighted avg       0.34      0.58      0.43        12\n",
      "\n",
      "-------------------\n",
      "2\n",
      "i*round(test_len/5) 12 (i*round(test_len/5))+ round(test_len/5) 24\n",
      "X_train_stack 130\n",
      "[1, 1, 0, 0, 0, 1, 1, 0, 0, 0, 1, 0]\n",
      "Accuracy:  0.75\n",
      "Classification Report: \n",
      "              precision    recall  f1-score   support\n",
      "\n",
      "          no       0.57      1.00      0.73         4\n",
      "         yes       1.00      0.62      0.77         8\n",
      "\n",
      "    accuracy                           0.75        12\n",
      "   macro avg       0.79      0.81      0.75        12\n",
      "weighted avg       0.86      0.75      0.76        12\n",
      "\n",
      "-------------------\n",
      "3\n",
      "i*round(test_len/5) 24 (i*round(test_len/5))+ round(test_len/5) 36\n",
      "X_train_stack 130\n",
      "[1, 1, 0, 1, 0, 1, 0, 0, 1, 0, 0, 0]\n",
      "Accuracy:  0.5833333333333334\n",
      "Classification Report: \n",
      "              precision    recall  f1-score   support\n",
      "\n",
      "          no       0.57      0.67      0.62         6\n",
      "         yes       0.60      0.50      0.55         6\n",
      "\n",
      "    accuracy                           0.58        12\n",
      "   macro avg       0.59      0.58      0.58        12\n",
      "weighted avg       0.59      0.58      0.58        12\n",
      "\n",
      "-------------------\n",
      "4\n",
      "i*round(test_len/5) 36 (i*round(test_len/5))+ round(test_len/5) 48\n",
      "X_train_stack 130\n",
      "[0, 0, 0, 0, 0, 1, 1, 0, 0, 0, 0, 0]\n",
      "Accuracy:  0.8333333333333334\n",
      "Classification Report: \n",
      "              precision    recall  f1-score   support\n",
      "\n",
      "          no       0.80      1.00      0.89         8\n",
      "         yes       1.00      0.50      0.67         4\n",
      "\n",
      "    accuracy                           0.83        12\n",
      "   macro avg       0.90      0.75      0.78        12\n",
      "weighted avg       0.87      0.83      0.81        12\n",
      "\n",
      "-------------------\n",
      "5\n",
      "i*round(test_len/5) 48 (i*round(test_len/5))+ round(test_len/5) 60\n",
      "X_train_stack 130\n",
      "[1, 1, 0, 0, 1, 1, 1, 0, 0, 1, 0, 1]\n",
      "Accuracy:  0.75\n",
      "Classification Report: \n",
      "              precision    recall  f1-score   support\n",
      "\n",
      "          no       0.80      0.67      0.73         6\n",
      "         yes       0.71      0.83      0.77         6\n",
      "\n",
      "    accuracy                           0.75        12\n",
      "   macro avg       0.76      0.75      0.75        12\n",
      "weighted avg       0.76      0.75      0.75        12\n",
      "\n",
      "-------------------\n"
     ]
    },
    {
     "name": "stderr",
     "output_type": "stream",
     "text": [
      "/opt/homebrew/lib/python3.10/site-packages/sklearn/metrics/_classification.py:1334: UndefinedMetricWarning: Precision and F-score are ill-defined and being set to 0.0 in labels with no predicted samples. Use `zero_division` parameter to control this behavior.\n",
      "  _warn_prf(average, modifier, msg_start, len(result))\n",
      "/opt/homebrew/lib/python3.10/site-packages/sklearn/metrics/_classification.py:1334: UndefinedMetricWarning: Precision and F-score are ill-defined and being set to 0.0 in labels with no predicted samples. Use `zero_division` parameter to control this behavior.\n",
      "  _warn_prf(average, modifier, msg_start, len(result))\n",
      "/opt/homebrew/lib/python3.10/site-packages/sklearn/metrics/_classification.py:1334: UndefinedMetricWarning: Precision and F-score are ill-defined and being set to 0.0 in labels with no predicted samples. Use `zero_division` parameter to control this behavior.\n",
      "  _warn_prf(average, modifier, msg_start, len(result))\n"
     ]
    }
   ],
   "source": [
    "accuracies = []\n",
    "target_names= [\"no\", \"yes\"]\n",
    "test_len= len(X_test)\n",
    "for i in range(5):\n",
    "    print(i+1)\n",
    "    print(\"i*round(test_len/5)\", i*round(test_len/5), \"(i*round(test_len/5))+ round(test_len/5)\", (i*round(test_len/5))+ round(test_len/5))\n",
    "    result=[]\n",
    "    X_val = X_train[i*round(test_len/5):(i*round(test_len/5))+ round(test_len/5),:]\n",
    "    \n",
    "    X_train_stack = X_train\n",
    "    X_train_stack = np.delete(X_train_stack,list(range(i*round(test_len/5),(i*round(test_len/5))+ round(test_len/5))), axis=0)\n",
    "\n",
    "    \n",
    "    y_val = y_train[i*round(test_len/5):(i*round(test_len/5))+ round(test_len/5)]\n",
    "    \n",
    "    y_train_stack = y_train\n",
    "    y_train_stack= np.delete(y_train_stack,list(range(i*round(test_len/5),(i*round(test_len/5)+ round(test_len/5)))))\n",
    "    \n",
    "\n",
    "    print(\"X_train_stack\", len(X_train_stack))\n",
    "    for key in range(len(X_train_stack)):\n",
    "        train(X_train_stack[key], y_train_stack[key])\n",
    "    for key in range(len(X_val)):\n",
    "        result.append(test(X_val[key]))\n",
    "    print(result)\n",
    "    accuracy = accuracy_score(y_val, result)\n",
    "    accuracies.append(accuracy)\n",
    "    classification_report = metrics.classification_report(y_val, result, target_names=target_names)\n",
    "    print(\"Accuracy: \", accuracy)\n",
    "    print(\"Classification Report: \")\n",
    "    print(classification_report)\n",
    "    print(\"-------------------\")"
   ]
  },
  {
   "cell_type": "code",
   "execution_count": 43,
   "metadata": {},
   "outputs": [
    {
     "name": "stdout",
     "output_type": "stream",
     "text": [
      "accuracy 0.7580645161290323\n",
      "classification_report\n",
      "              precision    recall  f1-score   support\n",
      "\n",
      "          no       0.69      0.81      0.75        27\n",
      "         yes       0.83      0.71      0.77        35\n",
      "\n",
      "    accuracy                           0.76        62\n",
      "   macro avg       0.76      0.76      0.76        62\n",
      "weighted avg       0.77      0.76      0.76        62\n",
      "\n"
     ]
    }
   ],
   "source": [
    "results = []\n",
    "target_names= [\"no\", \"yes\"]\n",
    "for key in range(len(X_test)):\n",
    "        result = test(X_test[key])\n",
    "        results.append(result)\n",
    "accuracy = accuracy_score(y_test, results)\n",
    "print(\"accuracy\", accuracy)\n",
    "classification_report = metrics.classification_report(y_test, results, target_names=target_names)\n",
    "print(\"classification_report\")\n",
    "print(classification_report)"
   ]
  },
  {
   "cell_type": "code",
   "execution_count": 44,
   "metadata": {},
   "outputs": [],
   "source": [
    "import matplotlib.pyplot as plt\n",
    "from sklearn.manifold import TSNE\n",
    "import seaborn as sns"
   ]
  },
  {
   "cell_type": "code",
   "execution_count": 45,
   "metadata": {},
   "outputs": [
    {
     "data": {
      "image/png": "[encoded data removed]",
      "text/plain": [
       "<Figure size 640x480 with 2 Axes>"
      ]
     },
     "metadata": {},
     "output_type": "display_data"
    }
   ],
   "source": [
    "cnf_matrix = metrics.confusion_matrix(y_test, results)\n",
    "fig, ax = plt.subplots()\n",
    "tick_marks = np.arange(len(target_names))\n",
    "plt.xticks(tick_marks, target_names)\n",
    "plt.yticks(tick_marks, target_names)\n",
    "# create heatmap\n",
    "sns.heatmap(pd.DataFrame(cnf_matrix), annot=True, cmap=\"YlGnBu\" ,fmt='g')\n",
    "ax.xaxis.set_label_position(\"top\")\n",
    "plt.tight_layout()\n",
    "plt.title('Confusion matrix', y=1.1)\n",
    "plt.ylabel('Actual label')\n",
    "plt.xlabel('Predicted label')\n",
    "plt.show()"
   ]
  },
  {
   "cell_type": "code",
   "execution_count": 46,
   "metadata": {},
   "outputs": [
    {
     "name": "stdout",
     "output_type": "stream",
     "text": [
      "AUC: 0.765\n"
     ]
    },
    {
     "data": {
      "image/png": "[encoded data removed]",
      "text/plain": [
       "<Figure size 640x480 with 1 Axes>"
      ]
     },
     "metadata": {},
     "output_type": "display_data"
    }
   ],
   "source": [
    "fpr, tpr, _ = metrics.roc_curve(y_test,  results)\n",
    "# calculate AUC\n",
    "auc = metrics.roc_auc_score(y_test, results)\n",
    "print('AUC: %.3f' % auc)\n",
    "plt.plot(fpr,tpr)\n",
    "plt.ylabel('True Positive Rate')\n",
    "plt.xlabel('False Positive Rate')\n",
    "plt.show()"
   ]
  },
  {
   "cell_type": "code",
   "execution_count": 47,
   "metadata": {},
   "outputs": [
    {
     "name": "stderr",
     "output_type": "stream",
     "text": [
      "/opt/homebrew/lib/python3.10/site-packages/sklearn/manifold/_t_sne.py:800: FutureWarning: The default initialization in TSNE will change from 'random' to 'pca' in 1.2.\n",
      "  warnings.warn(\n",
      "/opt/homebrew/lib/python3.10/site-packages/sklearn/manifold/_t_sne.py:810: FutureWarning: The default learning rate in TSNE will change from 200.0 to 'auto' in 1.2.\n",
      "  warnings.warn(\n",
      "/opt/homebrew/lib/python3.10/site-packages/seaborn/axisgrid.py:745: FutureWarning: iteritems is deprecated and will be removed in a future version. Use .items instead.\n",
      "  plot_args = [v for k, v in plot_data.iteritems()]\n",
      "/opt/homebrew/lib/python3.10/site-packages/seaborn/axisgrid.py:745: FutureWarning: iteritems is deprecated and will be removed in a future version. Use .items instead.\n",
      "  plot_args = [v for k, v in plot_data.iteritems()]\n"
     ]
    },
    {
     "data": {
      "image/png": "[encoded data removed]",
      "text/plain": [
       "<Figure size 372x300 with 1 Axes>"
      ]
     },
     "metadata": {},
     "output_type": "display_data"
    }
   ],
   "source": [
    "model = TSNE(n_components = 2, random_state=2)\n",
    "tsne_data_test = model.fit_transform(X_test)\n",
    "tsne_data_test = np.vstack((tsne_data_test.T, y_test)).T\n",
    "\n",
    "tsne_df_test = pd.DataFrame(data=tsne_data_test, columns=(\"Dim 1\", \"Dim 2\", \"labels\"))\n",
    "\n",
    "sns.FacetGrid(tsne_df_test, hue=\"labels\").map(plt.scatter, \"Dim 1\", \"Dim 2\").add_legend()\n",
    "plt.show()"
   ]
  },
  {
   "cell_type": "code",
   "execution_count": 48,
   "metadata": {},
   "outputs": [
    {
     "name": "stderr",
     "output_type": "stream",
     "text": [
      "/opt/homebrew/lib/python3.10/site-packages/sklearn/manifold/_t_sne.py:800: FutureWarning: The default initialization in TSNE will change from 'random' to 'pca' in 1.2.\n",
      "  warnings.warn(\n",
      "/opt/homebrew/lib/python3.10/site-packages/sklearn/manifold/_t_sne.py:810: FutureWarning: The default learning rate in TSNE will change from 200.0 to 'auto' in 1.2.\n",
      "  warnings.warn(\n",
      "/opt/homebrew/lib/python3.10/site-packages/seaborn/axisgrid.py:745: FutureWarning: iteritems is deprecated and will be removed in a future version. Use .items instead.\n",
      "  plot_args = [v for k, v in plot_data.iteritems()]\n",
      "/opt/homebrew/lib/python3.10/site-packages/seaborn/axisgrid.py:745: FutureWarning: iteritems is deprecated and will be removed in a future version. Use .items instead.\n",
      "  plot_args = [v for k, v in plot_data.iteritems()]\n"
     ]
    },
    {
     "data": {
      "image/png": "[encoded data removed]",
      "text/plain": [
       "<Figure size 372x300 with 1 Axes>"
      ]
     },
     "metadata": {},
     "output_type": "display_data"
    }
   ],
   "source": [
    "tsne_data_result = model.fit_transform(X_test)\n",
    "tsne_data_result = np.vstack((tsne_data_result.T, results)).T\n",
    "\n",
    "tsne_df_result = pd.DataFrame(data=tsne_data_result, columns=(\"Dim 1\", \"Dim 2\", \"labels\"))\n",
    "\n",
    "sns.FacetGrid(tsne_df_result, hue=\"labels\").map(plt.scatter, \"Dim 1\", \"Dim 2\").add_legend()\n",
    "plt.show()"
   ]
  }
 ],
 "metadata": {
  "kernelspec": {
   "display_name": "Python 3.10.6 64-bit",
   "language": "python",
   "name": "python3"
  },
  "language_info": {
   "codemirror_mode": {
    "name": "ipython",
    "version": 3
   },
   "file_extension": ".py",
   "mimetype": "text/x-python",
   "name": "python",
   "nbconvert_exporter": "python",
   "pygments_lexer": "ipython3",
   "version": "3.10.6"
  },
  "orig_nbformat": 4,
  "vscode": {
   "interpreter": {
    "hash": "b0fa6594d8f4cbf19f97940f81e996739fb7646882a419484c72d19e05852a7e"
   }
  }
 },
 "nbformat": 4,
 "nbformat_minor": 2
}
