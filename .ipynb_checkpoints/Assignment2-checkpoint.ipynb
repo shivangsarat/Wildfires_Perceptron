{
 "cells": [
  {
   "cell_type": "code",
   "execution_count": 434,
   "id": "182977ec",
   "metadata": {},
   "outputs": [
    {
     "name": "stdout",
     "output_type": "stream",
     "text": [
      "       fire  year  temp  humidity  rainfall  drought_code  buildup_index  day  \\\n",
      "0     no     2015    28        59       0.0          8.06           3.47    1   \n",
      "1     no     2010    30        61       1.3          8.17           4.03    2   \n",
      "2     no     2009    26        83      13.1          8.08           3.59    3   \n",
      "3     no     2017    25        87       2.5          7.18           2.42    4   \n",
      "4     no     2014    28        77       0.0         14.98           4.63    5   \n",
      "..      ...   ...   ...       ...       ...           ...            ...  ...   \n",
      "199  yes     2017    31        67       0.0         45.15          17.89   26   \n",
      "200   no     2017    29        89       4.4          8.74           6.52   27   \n",
      "201   no     2009    27        88       0.5          8.87           3.71   28   \n",
      "202   no     2016    25        56       0.1         15.54           6.10   29   \n",
      "203  no      2012    24        62       0.2         16.72           5.75   30   \n",
      "\n",
      "     month  wind_speed  \n",
      "0        6          19  \n",
      "1        6          13  \n",
      "2        6          22  \n",
      "3        6          15  \n",
      "4        6          18  \n",
      "..     ...         ...  \n",
      "199      9          15  \n",
      "200      9          15  \n",
      "201      9          30  \n",
      "202      9          20  \n",
      "203      9          17  \n",
      "\n",
      "[204 rows x 10 columns]\n"
     ]
    }
   ],
   "source": [
    "import pandas as pd\n",
    "data = pd.read_csv(\"wildfires.txt\", sep=\"\\t\")\n",
    "print(data)"
   ]
  },
  {
   "cell_type": "code",
   "execution_count": 435,
   "id": "4b4b72ac",
   "metadata": {},
   "outputs": [
    {
     "name": "stdout",
     "output_type": "stream",
     "text": [
      "<class 'pandas.core.frame.DataFrame'>\n",
      "RangeIndex: 204 entries, 0 to 203\n",
      "Data columns (total 10 columns):\n",
      " #   Column         Non-Null Count  Dtype  \n",
      "---  ------         --------------  -----  \n",
      " 0   fire           204 non-null    object \n",
      " 1   year           204 non-null    int64  \n",
      " 2   temp           204 non-null    int64  \n",
      " 3   humidity       204 non-null    int64  \n",
      " 4   rainfall       204 non-null    float64\n",
      " 5   drought_code   204 non-null    float64\n",
      " 6   buildup_index  204 non-null    float64\n",
      " 7   day            204 non-null    int64  \n",
      " 8   month          204 non-null    int64  \n",
      " 9   wind_speed     204 non-null    int64  \n",
      "dtypes: float64(3), int64(6), object(1)\n",
      "memory usage: 16.1+ KB\n"
     ]
    }
   ],
   "source": [
    "data.info()"
   ]
  },
  {
   "cell_type": "code",
   "execution_count": 436,
   "id": "b18582b0",
   "metadata": {},
   "outputs": [
    {
     "data": {
      "text/plain": [
       "pandas.core.frame.DataFrame"
      ]
     },
     "execution_count": 436,
     "metadata": {},
     "output_type": "execute_result"
    }
   ],
   "source": [
    "type(data)"
   ]
  },
  {
   "cell_type": "code",
   "execution_count": 437,
   "id": "4eb183a3",
   "metadata": {},
   "outputs": [],
   "source": [
    "del data[\"year\"]\n",
    "del data[\"day\"]\n",
    "del data[\"month\"]"
   ]
  },
  {
   "cell_type": "code",
   "execution_count": 438,
   "id": "4a4e231b",
   "metadata": {},
   "outputs": [
    {
     "data": {
      "text/html": [
       "<div>\n",
       "<style scoped>\n",
       "    .dataframe tbody tr th:only-of-type {\n",
       "        vertical-align: middle;\n",
       "    }\n",
       "\n",
       "    .dataframe tbody tr th {\n",
       "        vertical-align: top;\n",
       "    }\n",
       "\n",
       "    .dataframe thead th {\n",
       "        text-align: right;\n",
       "    }\n",
       "</style>\n",
       "<table border=\"1\" class=\"dataframe\">\n",
       "  <thead>\n",
       "    <tr style=\"text-align: right;\">\n",
       "      <th></th>\n",
       "      <th>fire</th>\n",
       "      <th>temp</th>\n",
       "      <th>humidity</th>\n",
       "      <th>rainfall</th>\n",
       "      <th>drought_code</th>\n",
       "      <th>buildup_index</th>\n",
       "      <th>wind_speed</th>\n",
       "    </tr>\n",
       "  </thead>\n",
       "  <tbody>\n",
       "    <tr>\n",
       "      <th>0</th>\n",
       "      <td>no</td>\n",
       "      <td>28</td>\n",
       "      <td>59</td>\n",
       "      <td>0.0</td>\n",
       "      <td>8.06</td>\n",
       "      <td>3.47</td>\n",
       "      <td>19</td>\n",
       "    </tr>\n",
       "    <tr>\n",
       "      <th>1</th>\n",
       "      <td>no</td>\n",
       "      <td>30</td>\n",
       "      <td>61</td>\n",
       "      <td>1.3</td>\n",
       "      <td>8.17</td>\n",
       "      <td>4.03</td>\n",
       "      <td>13</td>\n",
       "    </tr>\n",
       "    <tr>\n",
       "      <th>2</th>\n",
       "      <td>no</td>\n",
       "      <td>26</td>\n",
       "      <td>83</td>\n",
       "      <td>13.1</td>\n",
       "      <td>8.08</td>\n",
       "      <td>3.59</td>\n",
       "      <td>22</td>\n",
       "    </tr>\n",
       "    <tr>\n",
       "      <th>3</th>\n",
       "      <td>no</td>\n",
       "      <td>25</td>\n",
       "      <td>87</td>\n",
       "      <td>2.5</td>\n",
       "      <td>7.18</td>\n",
       "      <td>2.42</td>\n",
       "      <td>15</td>\n",
       "    </tr>\n",
       "    <tr>\n",
       "      <th>4</th>\n",
       "      <td>no</td>\n",
       "      <td>28</td>\n",
       "      <td>77</td>\n",
       "      <td>0.0</td>\n",
       "      <td>14.98</td>\n",
       "      <td>4.63</td>\n",
       "      <td>18</td>\n",
       "    </tr>\n",
       "    <tr>\n",
       "      <th>...</th>\n",
       "      <td>...</td>\n",
       "      <td>...</td>\n",
       "      <td>...</td>\n",
       "      <td>...</td>\n",
       "      <td>...</td>\n",
       "      <td>...</td>\n",
       "      <td>...</td>\n",
       "    </tr>\n",
       "    <tr>\n",
       "      <th>199</th>\n",
       "      <td>yes</td>\n",
       "      <td>31</td>\n",
       "      <td>67</td>\n",
       "      <td>0.0</td>\n",
       "      <td>45.15</td>\n",
       "      <td>17.89</td>\n",
       "      <td>15</td>\n",
       "    </tr>\n",
       "    <tr>\n",
       "      <th>200</th>\n",
       "      <td>no</td>\n",
       "      <td>29</td>\n",
       "      <td>89</td>\n",
       "      <td>4.4</td>\n",
       "      <td>8.74</td>\n",
       "      <td>6.52</td>\n",
       "      <td>15</td>\n",
       "    </tr>\n",
       "    <tr>\n",
       "      <th>201</th>\n",
       "      <td>no</td>\n",
       "      <td>27</td>\n",
       "      <td>88</td>\n",
       "      <td>0.5</td>\n",
       "      <td>8.87</td>\n",
       "      <td>3.71</td>\n",
       "      <td>30</td>\n",
       "    </tr>\n",
       "    <tr>\n",
       "      <th>202</th>\n",
       "      <td>no</td>\n",
       "      <td>25</td>\n",
       "      <td>56</td>\n",
       "      <td>0.1</td>\n",
       "      <td>15.54</td>\n",
       "      <td>6.10</td>\n",
       "      <td>20</td>\n",
       "    </tr>\n",
       "    <tr>\n",
       "      <th>203</th>\n",
       "      <td>no</td>\n",
       "      <td>24</td>\n",
       "      <td>62</td>\n",
       "      <td>0.2</td>\n",
       "      <td>16.72</td>\n",
       "      <td>5.75</td>\n",
       "      <td>17</td>\n",
       "    </tr>\n",
       "  </tbody>\n",
       "</table>\n",
       "<p>204 rows × 7 columns</p>\n",
       "</div>"
      ],
      "text/plain": [
       "       fire  temp  humidity  rainfall  drought_code  buildup_index  wind_speed\n",
       "0     no       28        59       0.0          8.06           3.47          19\n",
       "1     no       30        61       1.3          8.17           4.03          13\n",
       "2     no       26        83      13.1          8.08           3.59          22\n",
       "3     no       25        87       2.5          7.18           2.42          15\n",
       "4     no       28        77       0.0         14.98           4.63          18\n",
       "..      ...   ...       ...       ...           ...            ...         ...\n",
       "199  yes       31        67       0.0         45.15          17.89          15\n",
       "200   no       29        89       4.4          8.74           6.52          15\n",
       "201   no       27        88       0.5          8.87           3.71          30\n",
       "202   no       25        56       0.1         15.54           6.10          20\n",
       "203  no        24        62       0.2         16.72           5.75          17\n",
       "\n",
       "[204 rows x 7 columns]"
      ]
     },
     "execution_count": 438,
     "metadata": {},
     "output_type": "execute_result"
    }
   ],
   "source": [
    "data"
   ]
  },
  {
   "cell_type": "code",
   "execution_count": null,
   "id": "5a3a57fb",
   "metadata": {},
   "outputs": [],
   "source": []
  },
  {
   "cell_type": "code",
   "execution_count": 439,
   "id": "43f82563",
   "metadata": {},
   "outputs": [
    {
     "name": "stdout",
     "output_type": "stream",
     "text": [
      "['no   ' 'no   ' 'no   ' 'no   ' 'no   ' 'yes   ' 'yes   ' 'yes   '\n",
      " 'no   ' 'no   ' 'yes   ' 'yes   ' 'no   ' 'no   ' 'no   ' 'no   ' 'no   '\n",
      " 'no   ' 'no   ' 'no   ' 'yes   ' 'no   ' 'yes   ' 'yes   ' 'yes   '\n",
      " 'yes   ' 'yes   ' 'yes   ' 'no   ' 'yes   ' 'no   ' 'no   ' 'no   '\n",
      " 'no   ' 'yes   ' 'yes   ' 'no   ' 'yes   ' 'no   ' 'no   ' 'no   '\n",
      " 'no   ' 'no   ' 'no   ' 'no   ' 'no   ' 'yes   ' 'yes   ' 'yes   '\n",
      " 'no   ' 'yes   ' 'yes   ' 'yes   ' 'yes   ' 'yes   ' 'yes   ' 'yes   '\n",
      " 'yes   ' 'yes   ' 'yes   ' 'yes' 'yes   ' 'yes' 'yes ' 'yes' 'yes '\n",
      " 'yes   ' 'no   ' 'no' 'no ' 'no' 'no   ' 'no   ' 'yes   ' 'no   ' 'no   '\n",
      " 'no   ' 'no   ' 'no   ' 'no   ' 'no   ' 'no   ' 'no   ' 'no   ' 'no   '\n",
      " 'yes   ' 'yes   ' 'yes   ' 'yes' 'yes   ' 'no   ' 'no   ' 'no   ' 'no   '\n",
      " 'no   ' 'yes   ' 'no   ' 'no   ' 'no   ' 'no   ' 'no   ' 'no   ' 'no   '\n",
      " 'no   ' 'yes   ' 'yes   ' 'no   ' 'no   ' 'yes   ' 'yes   ' 'yes   '\n",
      " 'no   ' 'no   ' 'no   ' 'no   ' 'no   ' 'no   ' 'no   ' 'no   ' 'yes   '\n",
      " 'no   ' 'no   ' 'yes   ' 'yes   ' 'yes   ' 'yes   ' 'yes   ' 'yes   '\n",
      " 'no     ' 'no   ' 'yes   ' 'yes   ' 'yes   ' 'yes   ' 'yes   ' 'no   '\n",
      " 'no   ' 'no   ' 'no   ' 'yes   ' 'yes   ' 'yes   ' 'yes   ' 'no   '\n",
      " 'yes   ' 'yes   ' 'yes   ' 'yes   ' 'no   ' 'no   ' 'yes   ' 'yes   '\n",
      " 'yes   ' 'yes   ' 'yes   ' 'yes   ' 'yes   ' 'yes   ' 'yes   ' 'yes   '\n",
      " 'yes   ' 'yes   ' 'yes   ' 'yes   ' 'yes   ' 'yes   ' 'yes   ' 'yes   '\n",
      " 'yes   ' 'yes   ' 'no   ' 'yes   ' 'yes   ' 'yes   ' 'no   ' 'no   '\n",
      " 'yes   ' 'no   ' 'no   ' 'no   ' 'yes   ' 'yes   ' 'yes   ' 'no   '\n",
      " 'no   ' 'yes   ' 'yes   ' 'yes   ' 'yes   ' 'yes   ' 'yes   ' 'yes   '\n",
      " 'yes   ' 'no   ' 'yes   ' 'yes   ' 'yes   ' 'no   ' 'no   ' 'yes   '\n",
      " 'no   ' 'no   ' 'no   ' 'no    ']\n",
      "[28 59 0.0 8.06 3.47 19]\n"
     ]
    }
   ],
   "source": [
    "dependent = data.values[:,0]\n",
    "independent = data.values[:,1:9]\n",
    "print(dependent)\n",
    "print(independent[0])"
   ]
  },
  {
   "cell_type": "code",
   "execution_count": 440,
   "id": "ddaedecb",
   "metadata": {},
   "outputs": [
    {
     "name": "stdout",
     "output_type": "stream",
     "text": [
      "['no' 'no' 'no' 'no' 'no' 'yes' 'yes' 'yes' 'no' 'no' 'yes' 'yes' 'no'\n",
      " 'no' 'no' 'no' 'no' 'no' 'no' 'no' 'yes' 'no' 'yes' 'yes' 'yes' 'yes'\n",
      " 'yes' 'yes' 'no' 'yes' 'no' 'no' 'no' 'no' 'yes' 'yes' 'no' 'yes' 'no'\n",
      " 'no' 'no' 'no' 'no' 'no' 'no' 'no' 'yes' 'yes' 'yes' 'no' 'yes' 'yes'\n",
      " 'yes' 'yes' 'yes' 'yes' 'yes' 'yes' 'yes' 'yes' 'yes' 'yes' 'yes' 'yes'\n",
      " 'yes' 'yes' 'yes' 'no' 'no' 'no' 'no' 'no' 'no' 'yes' 'no' 'no' 'no' 'no'\n",
      " 'no' 'no' 'no' 'no' 'no' 'no' 'no' 'yes' 'yes' 'yes' 'yes' 'yes' 'no'\n",
      " 'no' 'no' 'no' 'no' 'yes' 'no' 'no' 'no' 'no' 'no' 'no' 'no' 'no' 'yes'\n",
      " 'yes' 'no' 'no' 'yes' 'yes' 'yes' 'no' 'no' 'no' 'no' 'no' 'no' 'no' 'no'\n",
      " 'yes' 'no' 'no' 'yes' 'yes' 'yes' 'yes' 'yes' 'yes' 'no' 'no' 'yes' 'yes'\n",
      " 'yes' 'yes' 'yes' 'no' 'no' 'no' 'no' 'yes' 'yes' 'yes' 'yes' 'no' 'yes'\n",
      " 'yes' 'yes' 'yes' 'no' 'no' 'yes' 'yes' 'yes' 'yes' 'yes' 'yes' 'yes'\n",
      " 'yes' 'yes' 'yes' 'yes' 'yes' 'yes' 'yes' 'yes' 'yes' 'yes' 'yes' 'yes'\n",
      " 'yes' 'no' 'yes' 'yes' 'yes' 'no' 'no' 'yes' 'no' 'no' 'no' 'yes' 'yes'\n",
      " 'yes' 'no' 'no' 'yes' 'yes' 'yes' 'yes' 'yes' 'yes' 'yes' 'yes' 'no'\n",
      " 'yes' 'yes' 'yes' 'no' 'no' 'yes' 'no' 'no' 'no' 'no']\n"
     ]
    }
   ],
   "source": [
    "for var in range(len(dependent)):\n",
    "    dependent[var] = dependent[var].replace(\" \", \"\")\n",
    "print(dependent)"
   ]
  },
  {
   "cell_type": "code",
   "execution_count": 441,
   "id": "368bf518",
   "metadata": {},
   "outputs": [
    {
     "data": {
      "text/plain": [
       "array([0, 0, 0, 0, 0, 1, 1, 1, 0, 0, 1, 1, 0, 0, 0, 0, 0, 0, 0, 0, 1, 0,\n",
       "       1, 1, 1, 1, 1, 1, 0, 1, 0, 0, 0, 0, 1, 1, 0, 1, 0, 0, 0, 0, 0, 0,\n",
       "       0, 0, 1, 1, 1, 0, 1, 1, 1, 1, 1, 1, 1, 1, 1, 1, 1, 1, 1, 1, 1, 1,\n",
       "       1, 0, 0, 0, 0, 0, 0, 1, 0, 0, 0, 0, 0, 0, 0, 0, 0, 0, 0, 1, 1, 1,\n",
       "       1, 1, 0, 0, 0, 0, 0, 1, 0, 0, 0, 0, 0, 0, 0, 0, 1, 1, 0, 0, 1, 1,\n",
       "       1, 0, 0, 0, 0, 0, 0, 0, 0, 1, 0, 0, 1, 1, 1, 1, 1, 1, 0, 0, 1, 1,\n",
       "       1, 1, 1, 0, 0, 0, 0, 1, 1, 1, 1, 0, 1, 1, 1, 1, 0, 0, 1, 1, 1, 1,\n",
       "       1, 1, 1, 1, 1, 1, 1, 1, 1, 1, 1, 1, 1, 1, 1, 1, 0, 1, 1, 1, 0, 0,\n",
       "       1, 0, 0, 0, 1, 1, 1, 0, 0, 1, 1, 1, 1, 1, 1, 1, 1, 0, 1, 1, 1, 0,\n",
       "       0, 1, 0, 0, 0, 0])"
      ]
     },
     "execution_count": 441,
     "metadata": {},
     "output_type": "execute_result"
    }
   ],
   "source": [
    "from sklearn import preprocessing\n",
    "le = preprocessing.LabelEncoder()\n",
    "dependent = le.fit_transform(dependent)\n",
    "dependent"
   ]
  },
  {
   "cell_type": "code",
   "execution_count": 442,
   "id": "670853b6",
   "metadata": {},
   "outputs": [
    {
     "data": {
      "text/plain": [
       "204"
      ]
     },
     "execution_count": 442,
     "metadata": {},
     "output_type": "execute_result"
    }
   ],
   "source": [
    "len(dependent)"
   ]
  },
  {
   "cell_type": "code",
   "execution_count": 90,
   "id": "34e66642",
   "metadata": {},
   "outputs": [
    {
     "data": {
      "text/plain": [
       "array([0.99925181, 0.01492906, 0.03334157, 0.        , 0.0113013 ,\n",
       "       0.00396615, 0.00298581, 0.00298581])"
      ]
     },
     "execution_count": 90,
     "metadata": {},
     "output_type": "execute_result"
    }
   ],
   "source": [
    "from sklearn import preprocessing\n",
    "normalized_independent = preprocessing.Normalizer().fit_transform(independent)\n",
    "normalized_independent[5]"
   ]
  },
  {
   "cell_type": "code",
   "execution_count": 443,
   "id": "b45425ea",
   "metadata": {},
   "outputs": [],
   "source": [
    "from sklearn.model_selection import train_test_split\n",
    "X_train, X_test, y_train, y_test = train_test_split(\n",
    "    independent, dependent, test_size=0.3, random_state=0)"
   ]
  },
  {
   "cell_type": "code",
   "execution_count": 444,
   "id": "5cf75d30",
   "metadata": {},
   "outputs": [
    {
     "data": {
      "text/plain": [
       "array([0, 0, 0, 1, 1, 0, 1, 1, 0, 1, 1, 1, 1, 1, 1, 1, 0, 1, 0, 1, 0, 1,\n",
       "       1, 0, 1, 1, 1, 1, 1, 0, 0, 1, 0, 0, 0, 1, 0, 0, 0, 1, 1, 0, 1, 1,\n",
       "       1, 0, 1, 0, 1, 1, 0, 1, 0, 1, 0, 0, 1, 0, 0, 0, 1, 1])"
      ]
     },
     "execution_count": 444,
     "metadata": {},
     "output_type": "execute_result"
    }
   ],
   "source": [
    "y_test"
   ]
  },
  {
   "cell_type": "code",
   "execution_count": 93,
   "id": "217e3fe9",
   "metadata": {},
   "outputs": [],
   "source": [
    "from sklearn.linear_model import Perceptron\n",
    "ppn = Perceptron(eta0=0.1, random_state=1)\n",
    "ppn.fit(X_train, y_train)\n",
    " \n",
    "y_pred = ppn.predict(X_test)"
   ]
  },
  {
   "cell_type": "code",
   "execution_count": 94,
   "id": "53b7927e",
   "metadata": {},
   "outputs": [
    {
     "name": "stdout",
     "output_type": "stream",
     "text": [
      "Accuracy: 0.435\n",
      "Accuracy: 0.435\n"
     ]
    }
   ],
   "source": [
    "from sklearn.metrics import accuracy_score\n",
    "print('Accuracy: %.3f' % accuracy_score(y_test, y_pred))\n",
    "print('Accuracy: %.3f' % ppn.score(X_test, y_test))"
   ]
  },
  {
   "cell_type": "code",
   "execution_count": 95,
   "id": "1831c810",
   "metadata": {},
   "outputs": [
    {
     "name": "stdout",
     "output_type": "stream",
     "text": [
      "              precision    recall  f1-score   support\n",
      "\n",
      "         yes       0.44      1.00      0.61        27\n",
      "          no       1.00      0.00      0.00        35\n",
      "\n",
      "    accuracy                           0.44        62\n",
      "   macro avg       0.72      0.50      0.30        62\n",
      "weighted avg       0.75      0.44      0.26        62\n",
      "\n"
     ]
    }
   ],
   "source": [
    "from sklearn.metrics import classification_report\n",
    "target_names= [\"yes\", \"no\"]\n",
    "print(classification_report(y_test, y_pred, target_names=target_names, zero_division=1))"
   ]
  },
  {
   "cell_type": "code",
   "execution_count": 445,
   "id": "b3dad4d0",
   "metadata": {},
   "outputs": [],
   "source": [
    "# Defining Perceptron "
   ]
  },
  {
   "cell_type": "code",
   "execution_count": 446,
   "id": "9a272046",
   "metadata": {},
   "outputs": [],
   "source": [
    "# Required Variables\n",
    "learningRate = 0.0001\n",
    "bias = 1\n",
    "feature_length = len(independent[0])"
   ]
  },
  {
   "cell_type": "code",
   "execution_count": 447,
   "id": "ac866a30",
   "metadata": {},
   "outputs": [
    {
     "data": {
      "text/plain": [
       "[0.44604602977676633,\n",
       " 0.7282023072188419,\n",
       " 0.31670756198656025,\n",
       " 0.8601558523067833,\n",
       " 0.7414573905800015,\n",
       " 0.21416168381874856,\n",
       " 0.51878644482792]"
      ]
     },
     "execution_count": 447,
     "metadata": {},
     "output_type": "execute_result"
    }
   ],
   "source": [
    "# Initializing random weights\n",
    "import random\n",
    "weights = []\n",
    "for i in range(feature_length+1):\n",
    "    weights.append(random.random())\n",
    "weights"
   ]
  },
  {
   "cell_type": "code",
   "execution_count": 448,
   "id": "537eb36f",
   "metadata": {},
   "outputs": [],
   "source": [
    "# Activation Function\n",
    "# Step Function\n",
    "def activate(inputs):\n",
    "    sum = 0\n",
    "    for i in range(len(inputs)):\n",
    "        sum += inputs[i] * weights[i]\n",
    "    if (sum > 0):\n",
    "        return 1\n",
    "    else:\n",
    "        return 0"
   ]
  },
  {
   "cell_type": "code",
   "execution_count": 449,
   "id": "f03f3c55",
   "metadata": {},
   "outputs": [],
   "source": [
    "# Data Training Function\n",
    "# Implementing Back Propagation\n",
    "import numpy as np\n",
    "\n",
    "def train(inputs, desired):\n",
    "    inputs = np.array(inputs)\n",
    "    np.append(inputs,bias)\n",
    "    guess = activate(inputs)\n",
    "    error = desired-guess\n",
    "    if(error != 0):\n",
    "        for i in range(len(inputs)):\n",
    "            weights[i] += learningRate * error * inputs[i]"
   ]
  },
  {
   "cell_type": "code",
   "execution_count": 400,
   "id": "c9906250",
   "metadata": {},
   "outputs": [],
   "source": [
    "for key in range(len(X_train)):\n",
    "    train(X_train[key], y_train[key])"
   ]
  },
  {
   "cell_type": "code",
   "execution_count": 451,
   "id": "c5ea8417",
   "metadata": {},
   "outputs": [],
   "source": [
    "# Test\n",
    "def test(test_inputs):\n",
    "    inputs = np.array(test_inputs)\n",
    "    np.append(inputs,bias)\n",
    "    return activate(inputs)\n"
   ]
  },
  {
   "cell_type": "code",
   "execution_count": 402,
   "id": "0bcfc1bf",
   "metadata": {},
   "outputs": [
    {
     "data": {
      "text/plain": [
       "[0,\n",
       " 0,\n",
       " 0,\n",
       " 1,\n",
       " 1,\n",
       " 1,\n",
       " 0,\n",
       " 1,\n",
       " 0,\n",
       " 1,\n",
       " 1,\n",
       " 0,\n",
       " 1,\n",
       " 1,\n",
       " 1,\n",
       " 0,\n",
       " 0,\n",
       " 0,\n",
       " 0,\n",
       " 1,\n",
       " 0,\n",
       " 1,\n",
       " 1,\n",
       " 1,\n",
       " 1,\n",
       " 1,\n",
       " 1,\n",
       " 0,\n",
       " 1,\n",
       " 0,\n",
       " 0,\n",
       " 1,\n",
       " 0,\n",
       " 0,\n",
       " 0,\n",
       " 1,\n",
       " 0,\n",
       " 0,\n",
       " 0,\n",
       " 1,\n",
       " 1,\n",
       " 0,\n",
       " 1,\n",
       " 1,\n",
       " 0,\n",
       " 0,\n",
       " 1,\n",
       " 0,\n",
       " 1,\n",
       " 1,\n",
       " 0,\n",
       " 0,\n",
       " 1,\n",
       " 1,\n",
       " 0,\n",
       " 0,\n",
       " 1,\n",
       " 0,\n",
       " 0,\n",
       " 0,\n",
       " 1,\n",
       " 1]"
      ]
     },
     "execution_count": 402,
     "metadata": {},
     "output_type": "execute_result"
    }
   ],
   "source": [
    "results"
   ]
  },
  {
   "cell_type": "code",
   "execution_count": 403,
   "id": "0929efae",
   "metadata": {},
   "outputs": [
    {
     "data": {
      "text/plain": [
       "array([0, 0, 0, 1, 1, 0, 1, 1, 0, 1, 1, 1, 1, 1, 1, 1, 0, 1, 0, 1, 0, 1,\n",
       "       1, 0, 1, 1, 1, 1, 1, 0, 0, 1, 0, 0, 0, 1, 0, 0, 0, 1, 1, 0, 1, 1,\n",
       "       1, 0, 1, 0, 1, 1, 0, 1, 0, 1, 0, 0, 1, 0, 0, 0, 1, 1])"
      ]
     },
     "execution_count": 403,
     "metadata": {},
     "output_type": "execute_result"
    }
   ],
   "source": [
    "y_test"
   ]
  },
  {
   "cell_type": "code",
   "execution_count": 404,
   "id": "200b1518",
   "metadata": {},
   "outputs": [
    {
     "data": {
      "text/plain": [
       "0.8387096774193549"
      ]
     },
     "execution_count": 404,
     "metadata": {},
     "output_type": "execute_result"
    }
   ],
   "source": [
    "from sklearn import metrics\n",
    "accuracy = metrics.accuracy_score(y_test, results)\n",
    "accuracy"
   ]
  },
  {
   "cell_type": "code",
   "execution_count": 260,
   "id": "c828a4ff",
   "metadata": {},
   "outputs": [
    {
     "name": "stdout",
     "output_type": "stream",
     "text": [
      "              precision    recall  f1-score   support\n",
      "\n",
      "          no       0.00      0.00      0.00        27\n",
      "         yes       0.56      1.00      0.72        35\n",
      "\n",
      "    accuracy                           0.56        62\n",
      "   macro avg       0.28      0.50      0.36        62\n",
      "weighted avg       0.32      0.56      0.41        62\n",
      "\n"
     ]
    },
    {
     "name": "stderr",
     "output_type": "stream",
     "text": [
      "/Users/shivangsarat/opt/anaconda3/lib/python3.9/site-packages/sklearn/metrics/_classification.py:1318: UndefinedMetricWarning: Precision and F-score are ill-defined and being set to 0.0 in labels with no predicted samples. Use `zero_division` parameter to control this behavior.\n",
      "  _warn_prf(average, modifier, msg_start, len(result))\n",
      "/Users/shivangsarat/opt/anaconda3/lib/python3.9/site-packages/sklearn/metrics/_classification.py:1318: UndefinedMetricWarning: Precision and F-score are ill-defined and being set to 0.0 in labels with no predicted samples. Use `zero_division` parameter to control this behavior.\n",
      "  _warn_prf(average, modifier, msg_start, len(result))\n",
      "/Users/shivangsarat/opt/anaconda3/lib/python3.9/site-packages/sklearn/metrics/_classification.py:1318: UndefinedMetricWarning: Precision and F-score are ill-defined and being set to 0.0 in labels with no predicted samples. Use `zero_division` parameter to control this behavior.\n",
      "  _warn_prf(average, modifier, msg_start, len(result))\n"
     ]
    }
   ],
   "source": [
    "target_names= [\"no\", \"yes\"]\n",
    "print(metrics.classification_report(y_test, results, target_names=target_names))"
   ]
  },
  {
   "cell_type": "code",
   "execution_count": 249,
   "id": "6b92c370",
   "metadata": {},
   "outputs": [
    {
     "data": {
      "image/png": "[encoded data removed]",
      "text/plain": [
       "<Figure size 432x288 with 1 Axes>"
      ]
     },
     "metadata": {
      "needs_background": "light"
     },
     "output_type": "display_data"
    }
   ],
   "source": [
    "import matplotlib.pyplot as plt\n",
    "fpr, tpr, _ = metrics.roc_curve(y_test,  results)\n",
    "plt.plot(fpr,tpr)\n",
    "plt.ylabel('True Positive Rate')\n",
    "plt.xlabel('False Positive Rate')\n",
    "plt.show()"
   ]
  },
  {
   "cell_type": "code",
   "execution_count": 250,
   "id": "8b25b702",
   "metadata": {},
   "outputs": [
    {
     "data": {
      "text/plain": [
       "[0.047091279636340126,\n",
       " -0.7593004206666263,\n",
       " -0.915907358864828,\n",
       " -0.8808979577808579,\n",
       " 0.41783374745853724,\n",
       " -0.4654461415451733,\n",
       " -0.946084551720971,\n",
       " 0.32895523096013213,\n",
       " -0.878854303200419]"
      ]
     },
     "execution_count": 250,
     "metadata": {},
     "output_type": "execute_result"
    }
   ],
   "source": [
    "weights"
   ]
  },
  {
   "cell_type": "code",
   "execution_count": 251,
   "id": "5066a9fa",
   "metadata": {},
   "outputs": [
    {
     "data": {
      "text/plain": [
       "1"
      ]
     },
     "execution_count": 251,
     "metadata": {},
     "output_type": "execute_result"
    }
   ],
   "source": [
    "bias"
   ]
  },
  {
   "cell_type": "code",
   "execution_count": 252,
   "id": "e9862bc2",
   "metadata": {},
   "outputs": [
    {
     "name": "stderr",
     "output_type": "stream",
     "text": [
      "/Users/shivangsarat/opt/anaconda3/lib/python3.9/site-packages/sklearn/manifold/_t_sne.py:780: FutureWarning: The default initialization in TSNE will change from 'random' to 'pca' in 1.2.\n",
      "  warnings.warn(\n",
      "/Users/shivangsarat/opt/anaconda3/lib/python3.9/site-packages/sklearn/manifold/_t_sne.py:790: FutureWarning: The default learning rate in TSNE will change from 200.0 to 'auto' in 1.2.\n",
      "  warnings.warn(\n"
     ]
    },
    {
     "data": {
      "image/png": "[encoded data removed]",
      "text/plain": [
       "<Figure size 268x216 with 1 Axes>"
      ]
     },
     "metadata": {
      "needs_background": "light"
     },
     "output_type": "display_data"
    }
   ],
   "source": [
    "from sklearn.manifold import TSNE\n",
    "import seaborn as sns\n",
    "\n",
    "model = TSNE(n_components = 2, random_state=2)\n",
    "tsne_data_test = model.fit_transform(X_test)\n",
    "tsne_data_test = np.vstack((tsne_data_test.T, y_test)).T\n",
    "\n",
    "tsne_df_test = pd.DataFrame(data=tsne_data_test, columns=(\"Dim 1\", \"Dim 2\", \"labels\"))\n",
    "\n",
    "sns.FacetGrid(tsne_df_test, hue=\"labels\").map(plt.scatter, \"Dim 1\", \"Dim 2\").add_legend()\n",
    "plt.show()"
   ]
  },
  {
   "cell_type": "code",
   "execution_count": 253,
   "id": "cd1d1c51",
   "metadata": {},
   "outputs": [
    {
     "name": "stderr",
     "output_type": "stream",
     "text": [
      "/Users/shivangsarat/opt/anaconda3/lib/python3.9/site-packages/sklearn/manifold/_t_sne.py:780: FutureWarning: The default initialization in TSNE will change from 'random' to 'pca' in 1.2.\n",
      "  warnings.warn(\n",
      "/Users/shivangsarat/opt/anaconda3/lib/python3.9/site-packages/sklearn/manifold/_t_sne.py:790: FutureWarning: The default learning rate in TSNE will change from 200.0 to 'auto' in 1.2.\n",
      "  warnings.warn(\n"
     ]
    },
    {
     "data": {
      "image/png": "[encoded data removed]",
      "text/plain": [
       "<Figure size 268x216 with 1 Axes>"
      ]
     },
     "metadata": {
      "needs_background": "light"
     },
     "output_type": "display_data"
    }
   ],
   "source": [
    "tsne_data_result = model.fit_transform(X_test)\n",
    "tsne_data_result = np.vstack((tsne_data_result.T, results)).T\n",
    "\n",
    "tsne_df_result = pd.DataFrame(data=tsne_data_result, columns=(\"Dim 1\", \"Dim 2\", \"labels\"))\n",
    "\n",
    "sns.FacetGrid(tsne_df_result, hue=\"labels\").map(plt.scatter, \"Dim 1\", \"Dim 2\").add_legend()\n",
    "plt.show()"
   ]
  },
  {
   "cell_type": "code",
   "execution_count": 288,
   "id": "e9758882",
   "metadata": {},
   "outputs": [
    {
     "data": {
      "text/plain": [
       "142"
      ]
     },
     "execution_count": 288,
     "metadata": {},
     "output_type": "execute_result"
    }
   ],
   "source": [
    "len(X_train)"
   ]
  },
  {
   "cell_type": "code",
   "execution_count": 284,
   "id": "0f2fc743",
   "metadata": {},
   "outputs": [
    {
     "ename": "AttributeError",
     "evalue": "'numpy.ndarray' object has no attribute 'difference'",
     "output_type": "error",
     "traceback": [
      "\u001b[0;31m---------------------------------------------------------------------------\u001b[0m",
      "\u001b[0;31mAttributeError\u001b[0m                            Traceback (most recent call last)",
      "Input \u001b[0;32mIn [284]\u001b[0m, in \u001b[0;36m<cell line: 2>\u001b[0;34m()\u001b[0m\n\u001b[1;32m      1\u001b[0m y1 \u001b[38;5;241m=\u001b[39m y_train[\u001b[38;5;241m13\u001b[39m:\u001b[38;5;241m24\u001b[39m]\n\u001b[0;32m----> 2\u001b[0m \u001b[38;5;28mprint\u001b[39m(\u001b[43my_train\u001b[49m\u001b[38;5;241;43m.\u001b[39;49m\u001b[43mdifference\u001b[49m(y1))\n",
      "\u001b[0;31mAttributeError\u001b[0m: 'numpy.ndarray' object has no attribute 'difference'"
     ]
    }
   ],
   "source": [
    "y1 = y_train[13:24]\n",
    "print(y_train.difference(y1))"
   ]
  },
  {
   "cell_type": "code",
   "execution_count": 452,
   "id": "f7280c28",
   "metadata": {},
   "outputs": [
    {
     "name": "stdout",
     "output_type": "stream",
     "text": [
      "1\n",
      "i*round(test_len/5) 0 (i*round(test_len/5))+ round(test_len/5) 12\n",
      "X_train_stack 130\n",
      "[1, 0, 1, 1, 1, 1, 1, 1, 1, 1, 1, 0]\n",
      "Accuracy:  0.75\n",
      "Classification Report: \n",
      "              precision    recall  f1-score   support\n",
      "\n",
      "          no       1.00      0.40      0.57         5\n",
      "         yes       0.70      1.00      0.82         7\n",
      "\n",
      "    accuracy                           0.75        12\n",
      "   macro avg       0.85      0.70      0.70        12\n",
      "weighted avg       0.82      0.75      0.72        12\n",
      "\n",
      "-------------------\n",
      "2\n",
      "i*round(test_len/5) 12 (i*round(test_len/5))+ round(test_len/5) 24\n",
      "X_train_stack 130\n",
      "[1, 1, 0, 0, 0, 1, 0, 0, 0, 1, 1, 1]\n",
      "Accuracy:  0.8333333333333334\n",
      "Classification Report: \n",
      "              precision    recall  f1-score   support\n",
      "\n",
      "          no       0.67      1.00      0.80         4\n",
      "         yes       1.00      0.75      0.86         8\n",
      "\n",
      "    accuracy                           0.83        12\n",
      "   macro avg       0.83      0.88      0.83        12\n",
      "weighted avg       0.89      0.83      0.84        12\n",
      "\n",
      "-------------------\n",
      "3\n",
      "i*round(test_len/5) 24 (i*round(test_len/5))+ round(test_len/5) 36\n",
      "X_train_stack 130\n",
      "[0, 1, 0, 1, 1, 1, 0, 1, 0, 0, 1, 0]\n",
      "Accuracy:  0.6666666666666666\n",
      "Classification Report: \n",
      "              precision    recall  f1-score   support\n",
      "\n",
      "          no       0.67      0.67      0.67         6\n",
      "         yes       0.67      0.67      0.67         6\n",
      "\n",
      "    accuracy                           0.67        12\n",
      "   macro avg       0.67      0.67      0.67        12\n",
      "weighted avg       0.67      0.67      0.67        12\n",
      "\n",
      "-------------------\n",
      "4\n",
      "i*round(test_len/5) 36 (i*round(test_len/5))+ round(test_len/5) 48\n",
      "X_train_stack 130\n",
      "[0, 0, 0, 0, 0, 1, 1, 1, 0, 0, 0, 0]\n",
      "Accuracy:  0.9166666666666666\n",
      "Classification Report: \n",
      "              precision    recall  f1-score   support\n",
      "\n",
      "          no       0.89      1.00      0.94         8\n",
      "         yes       1.00      0.75      0.86         4\n",
      "\n",
      "    accuracy                           0.92        12\n",
      "   macro avg       0.94      0.88      0.90        12\n",
      "weighted avg       0.93      0.92      0.91        12\n",
      "\n",
      "-------------------\n",
      "5\n",
      "i*round(test_len/5) 48 (i*round(test_len/5))+ round(test_len/5) 60\n",
      "X_train_stack 130\n",
      "[1, 0, 0, 0, 1, 1, 0, 0, 0, 1, 1, 1]\n",
      "Accuracy:  0.8333333333333334\n",
      "Classification Report: \n",
      "              precision    recall  f1-score   support\n",
      "\n",
      "          no       0.83      0.83      0.83         6\n",
      "         yes       0.83      0.83      0.83         6\n",
      "\n",
      "    accuracy                           0.83        12\n",
      "   macro avg       0.83      0.83      0.83        12\n",
      "weighted avg       0.83      0.83      0.83        12\n",
      "\n",
      "-------------------\n"
     ]
    }
   ],
   "source": [
    "accuracies = []\n",
    "target_names= [\"no\", \"yes\"]\n",
    "test_len= len(X_test)\n",
    "for i in range(5):\n",
    "    print(i+1)\n",
    "    print(\"i*round(test_len/5)\", i*round(test_len/5), \"(i*round(test_len/5))+ round(test_len/5)\", (i*round(test_len/5))+ round(test_len/5))\n",
    "    result=[]\n",
    "    X_val = X_train[i*round(test_len/5):(i*round(test_len/5))+ round(test_len/5),:]\n",
    "    \n",
    "    X_train_stack = X_train\n",
    "    X_train_stack = np.delete(X_train_stack,list(range(i*round(test_len/5),(i*round(test_len/5))+ round(test_len/5))), axis=0)\n",
    "\n",
    "    \n",
    "    y_val = y_train[i*round(test_len/5):(i*round(test_len/5))+ round(test_len/5)]\n",
    "    \n",
    "    y_train_stack = y_train\n",
    "    y_train_stack= np.delete(y_train_stack,list(range(i*round(test_len/5),(i*round(test_len/5)+ round(test_len/5)))))\n",
    "    \n",
    "\n",
    "    print(\"X_train_stack\", len(X_train_stack))\n",
    "    for key in range(len(X_train_stack)):\n",
    "        train(X_train_stack[key], y_train_stack[key])\n",
    "    for key in range(len(X_val)):\n",
    "        result.append(test(X_val[key]))\n",
    "    print(result)\n",
    "    accuracy = metrics.accuracy_score(y_val, result)\n",
    "    accuracies.append(accuracy)\n",
    "    classification_report = metrics.classification_report(y_val, result, target_names=target_names)\n",
    "    print(\"Accuracy: \", accuracy)\n",
    "    print(\"Classification Report: \")\n",
    "    print(classification_report)\n",
    "    print(\"-------------------\")"
   ]
  },
  {
   "cell_type": "code",
   "execution_count": 453,
   "id": "1b0bf835",
   "metadata": {},
   "outputs": [],
   "source": [
    "results = []\n",
    "for key in range(len(X_test)):\n",
    "    results.append(test(X_test[key]))\n"
   ]
  },
  {
   "cell_type": "code",
   "execution_count": 454,
   "id": "7ae016db",
   "metadata": {},
   "outputs": [
    {
     "data": {
      "text/plain": [
       "[0,\n",
       " 0,\n",
       " 0,\n",
       " 1,\n",
       " 1,\n",
       " 1,\n",
       " 0,\n",
       " 1,\n",
       " 0,\n",
       " 1,\n",
       " 1,\n",
       " 0,\n",
       " 1,\n",
       " 1,\n",
       " 1,\n",
       " 0,\n",
       " 0,\n",
       " 0,\n",
       " 0,\n",
       " 1,\n",
       " 0,\n",
       " 1,\n",
       " 1,\n",
       " 1,\n",
       " 1,\n",
       " 1,\n",
       " 1,\n",
       " 0,\n",
       " 1,\n",
       " 0,\n",
       " 0,\n",
       " 1,\n",
       " 0,\n",
       " 0,\n",
       " 0,\n",
       " 1,\n",
       " 0,\n",
       " 0,\n",
       " 0,\n",
       " 1,\n",
       " 1,\n",
       " 0,\n",
       " 1,\n",
       " 1,\n",
       " 0,\n",
       " 0,\n",
       " 1,\n",
       " 0,\n",
       " 1,\n",
       " 1,\n",
       " 0,\n",
       " 0,\n",
       " 1,\n",
       " 1,\n",
       " 0,\n",
       " 0,\n",
       " 1,\n",
       " 0,\n",
       " 0,\n",
       " 0,\n",
       " 1,\n",
       " 1]"
      ]
     },
     "execution_count": 454,
     "metadata": {},
     "output_type": "execute_result"
    }
   ],
   "source": [
    "results"
   ]
  },
  {
   "cell_type": "code",
   "execution_count": 455,
   "id": "6a2a5223",
   "metadata": {},
   "outputs": [
    {
     "data": {
      "text/plain": [
       "0.8387096774193549"
      ]
     },
     "execution_count": 455,
     "metadata": {},
     "output_type": "execute_result"
    }
   ],
   "source": [
    "accuracy = metrics.accuracy_score(y_test, results)\n",
    "accuracy"
   ]
  },
  {
   "cell_type": "code",
   "execution_count": 456,
   "id": "3a364260",
   "metadata": {},
   "outputs": [
    {
     "name": "stdout",
     "output_type": "stream",
     "text": [
      "              precision    recall  f1-score   support\n",
      "\n",
      "          no       0.77      0.89      0.83        27\n",
      "         yes       0.90      0.80      0.85        35\n",
      "\n",
      "    accuracy                           0.84        62\n",
      "   macro avg       0.84      0.84      0.84        62\n",
      "weighted avg       0.85      0.84      0.84        62\n",
      "\n"
     ]
    }
   ],
   "source": [
    "target_names= [\"no\", \"yes\"]\n",
    "print(metrics.classification_report(y_test, results, target_names=target_names))"
   ]
  },
  {
   "cell_type": "code",
   "execution_count": 457,
   "id": "65ac503e",
   "metadata": {},
   "outputs": [
    {
     "name": "stderr",
     "output_type": "stream",
     "text": [
      "/Users/shivangsarat/opt/anaconda3/lib/python3.9/site-packages/sklearn/manifold/_t_sne.py:780: FutureWarning: The default initialization in TSNE will change from 'random' to 'pca' in 1.2.\n",
      "  warnings.warn(\n",
      "/Users/shivangsarat/opt/anaconda3/lib/python3.9/site-packages/sklearn/manifold/_t_sne.py:790: FutureWarning: The default learning rate in TSNE will change from 200.0 to 'auto' in 1.2.\n",
      "  warnings.warn(\n"
     ]
    },
    {
     "data": {
      "image/png": "[encoded data removed]",
      "text/plain": [
       "<Figure size 268x216 with 1 Axes>"
      ]
     },
     "metadata": {
      "needs_background": "light"
     },
     "output_type": "display_data"
    }
   ],
   "source": [
    "model = TSNE(n_components = 2, random_state=2)\n",
    "tsne_data_test = model.fit_transform(X_test)\n",
    "tsne_data_test = np.vstack((tsne_data_test.T, y_test)).T\n",
    "\n",
    "tsne_df_test = pd.DataFrame(data=tsne_data_test, columns=(\"Dim 1\", \"Dim 2\", \"labels\"))\n",
    "\n",
    "sns.FacetGrid(tsne_df_test, hue=\"labels\").map(plt.scatter, \"Dim 1\", \"Dim 2\").add_legend()\n",
    "plt.show()"
   ]
  },
  {
   "cell_type": "code",
   "execution_count": 458,
   "id": "90c6b40f",
   "metadata": {},
   "outputs": [
    {
     "name": "stderr",
     "output_type": "stream",
     "text": [
      "/Users/shivangsarat/opt/anaconda3/lib/python3.9/site-packages/sklearn/manifold/_t_sne.py:780: FutureWarning: The default initialization in TSNE will change from 'random' to 'pca' in 1.2.\n",
      "  warnings.warn(\n",
      "/Users/shivangsarat/opt/anaconda3/lib/python3.9/site-packages/sklearn/manifold/_t_sne.py:790: FutureWarning: The default learning rate in TSNE will change from 200.0 to 'auto' in 1.2.\n",
      "  warnings.warn(\n"
     ]
    },
    {
     "data": {
      "image/png": "[encoded data removed]",
      "text/plain": [
       "<Figure size 268x216 with 1 Axes>"
      ]
     },
     "metadata": {
      "needs_background": "light"
     },
     "output_type": "display_data"
    }
   ],
   "source": [
    "tsne_data_result = model.fit_transform(X_test)\n",
    "tsne_data_result = np.vstack((tsne_data_result.T, results)).T\n",
    "\n",
    "tsne_df_result = pd.DataFrame(data=tsne_data_result, columns=(\"Dim 1\", \"Dim 2\", \"labels\"))\n",
    "\n",
    "sns.FacetGrid(tsne_df_result, hue=\"labels\").map(plt.scatter, \"Dim 1\", \"Dim 2\").add_legend()\n",
    "plt.show()"
   ]
  },
  {
   "cell_type": "code",
   "execution_count": null,
   "id": "9cc2ddf8",
   "metadata": {},
   "outputs": [],
   "source": []
  }
 ],
 "metadata": {
  "kernelspec": {
   "display_name": "Python 3 (ipykernel)",
   "language": "python",
   "name": "python3"
  },
  "language_info": {
   "codemirror_mode": {
    "name": "ipython",
    "version": 3
   },
   "file_extension": ".py",
   "mimetype": "text/x-python",
   "name": "python",
   "nbconvert_exporter": "python",
   "pygments_lexer": "ipython3",
   "version": "3.9.12"
  }
 },
 "nbformat": 4,
 "nbformat_minor": 5
}
